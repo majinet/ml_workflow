{
 "cells": [
  {
   "cell_type": "code",
   "execution_count": 3,
   "metadata": {
    "collapsed": true
   },
   "outputs": [],
   "source": [
    "from feast import FeatureStore, RepoConfig, RegistryConfig\n",
    "import pandas as pd\n",
    "from sqlalchemy import text, create_engine"
   ]
  },
  {
   "cell_type": "code",
   "execution_count": 20,
   "outputs": [],
   "source": [
    "# Define the PostgreSQL connection parameters\n",
    "hostname = '10.152.183.45'\n",
    "port = '5432'\n",
    "database = 'feast'\n",
    "username = 'feast'\n",
    "password = 'feast'\n",
    "\n",
    "# Create a SQLAlchemy engine object\n",
    "engine = create_engine(f'postgresql://{username}:{password}@{hostname}:{port}/{database}')"
   ],
   "metadata": {
    "collapsed": false
   }
  },
  {
   "cell_type": "code",
   "execution_count": 21,
   "outputs": [],
   "source": [
    "with engine.connect() as conn:\n",
    "    entity_df = pd.read_sql('titanic_train_preprocessed', conn)"
   ],
   "metadata": {
    "collapsed": false
   }
  },
  {
   "cell_type": "code",
   "execution_count": 23,
   "outputs": [
    {
     "data": {
      "text/plain": "     PassengerId  Pclass   Age     Sex  SibSp  Parch     Fare  Survived  \\\n0              2       1  38.0  female      1      0  71.2833         1   \n1              4       1  35.0  female      1      0  53.1000         1   \n2              7       1  54.0    male      0      0  51.8625         0   \n3             11       3   4.0  female      1      1  16.7000         1   \n4             12       1  58.0  female      0      0  26.5500         1   \n..           ...     ...   ...     ...    ...    ...      ...       ...   \n178          872       1  47.0  female      1      1  52.5542         1   \n179          873       1  33.0    male      0      0   5.0000         0   \n180          880       1  56.0  female      0      1  83.1583         1   \n181          888       1  19.0  female      0      0  30.0000         1   \n182          890       1  26.0    male      0      0  30.0000         1   \n\n               event_timestamp  \n0   2023-03-09 06:48:05.418010  \n1   2023-03-09 06:48:05.418010  \n2   2023-03-09 06:48:05.418010  \n3   2023-03-09 06:48:05.418010  \n4   2023-03-09 06:48:05.418010  \n..                         ...  \n178 2023-03-09 06:48:05.418010  \n179 2023-03-09 06:48:05.418010  \n180 2023-03-09 06:48:05.418010  \n181 2023-03-09 06:48:05.418010  \n182 2023-03-09 06:48:05.418010  \n\n[183 rows x 9 columns]",
      "text/html": "<div>\n<style scoped>\n    .dataframe tbody tr th:only-of-type {\n        vertical-align: middle;\n    }\n\n    .dataframe tbody tr th {\n        vertical-align: top;\n    }\n\n    .dataframe thead th {\n        text-align: right;\n    }\n</style>\n<table border=\"1\" class=\"dataframe\">\n  <thead>\n    <tr style=\"text-align: right;\">\n      <th></th>\n      <th>PassengerId</th>\n      <th>Pclass</th>\n      <th>Age</th>\n      <th>Sex</th>\n      <th>SibSp</th>\n      <th>Parch</th>\n      <th>Fare</th>\n      <th>Survived</th>\n      <th>event_timestamp</th>\n    </tr>\n  </thead>\n  <tbody>\n    <tr>\n      <th>0</th>\n      <td>2</td>\n      <td>1</td>\n      <td>38.0</td>\n      <td>female</td>\n      <td>1</td>\n      <td>0</td>\n      <td>71.2833</td>\n      <td>1</td>\n      <td>2023-03-09 06:48:05.418010</td>\n    </tr>\n    <tr>\n      <th>1</th>\n      <td>4</td>\n      <td>1</td>\n      <td>35.0</td>\n      <td>female</td>\n      <td>1</td>\n      <td>0</td>\n      <td>53.1000</td>\n      <td>1</td>\n      <td>2023-03-09 06:48:05.418010</td>\n    </tr>\n    <tr>\n      <th>2</th>\n      <td>7</td>\n      <td>1</td>\n      <td>54.0</td>\n      <td>male</td>\n      <td>0</td>\n      <td>0</td>\n      <td>51.8625</td>\n      <td>0</td>\n      <td>2023-03-09 06:48:05.418010</td>\n    </tr>\n    <tr>\n      <th>3</th>\n      <td>11</td>\n      <td>3</td>\n      <td>4.0</td>\n      <td>female</td>\n      <td>1</td>\n      <td>1</td>\n      <td>16.7000</td>\n      <td>1</td>\n      <td>2023-03-09 06:48:05.418010</td>\n    </tr>\n    <tr>\n      <th>4</th>\n      <td>12</td>\n      <td>1</td>\n      <td>58.0</td>\n      <td>female</td>\n      <td>0</td>\n      <td>0</td>\n      <td>26.5500</td>\n      <td>1</td>\n      <td>2023-03-09 06:48:05.418010</td>\n    </tr>\n    <tr>\n      <th>...</th>\n      <td>...</td>\n      <td>...</td>\n      <td>...</td>\n      <td>...</td>\n      <td>...</td>\n      <td>...</td>\n      <td>...</td>\n      <td>...</td>\n      <td>...</td>\n    </tr>\n    <tr>\n      <th>178</th>\n      <td>872</td>\n      <td>1</td>\n      <td>47.0</td>\n      <td>female</td>\n      <td>1</td>\n      <td>1</td>\n      <td>52.5542</td>\n      <td>1</td>\n      <td>2023-03-09 06:48:05.418010</td>\n    </tr>\n    <tr>\n      <th>179</th>\n      <td>873</td>\n      <td>1</td>\n      <td>33.0</td>\n      <td>male</td>\n      <td>0</td>\n      <td>0</td>\n      <td>5.0000</td>\n      <td>0</td>\n      <td>2023-03-09 06:48:05.418010</td>\n    </tr>\n    <tr>\n      <th>180</th>\n      <td>880</td>\n      <td>1</td>\n      <td>56.0</td>\n      <td>female</td>\n      <td>0</td>\n      <td>1</td>\n      <td>83.1583</td>\n      <td>1</td>\n      <td>2023-03-09 06:48:05.418010</td>\n    </tr>\n    <tr>\n      <th>181</th>\n      <td>888</td>\n      <td>1</td>\n      <td>19.0</td>\n      <td>female</td>\n      <td>0</td>\n      <td>0</td>\n      <td>30.0000</td>\n      <td>1</td>\n      <td>2023-03-09 06:48:05.418010</td>\n    </tr>\n    <tr>\n      <th>182</th>\n      <td>890</td>\n      <td>1</td>\n      <td>26.0</td>\n      <td>male</td>\n      <td>0</td>\n      <td>0</td>\n      <td>30.0000</td>\n      <td>1</td>\n      <td>2023-03-09 06:48:05.418010</td>\n    </tr>\n  </tbody>\n</table>\n<p>183 rows × 9 columns</p>\n</div>"
     },
     "execution_count": 23,
     "metadata": {},
     "output_type": "execute_result"
    }
   ],
   "source": [
    "entity_df"
   ],
   "metadata": {
    "collapsed": false
   }
  },
  {
   "cell_type": "code",
   "execution_count": 28,
   "outputs": [],
   "source": [
    "feature_store = FeatureStore(repo_path=\"feast_demo/feature_repo\")  # Initialize the feature store\n",
    "#feature_store = FeatureStore(config=repo_config)"
   ],
   "metadata": {
    "collapsed": false
   }
  },
  {
   "cell_type": "code",
   "execution_count": 26,
   "outputs": [
    {
     "ename": "FeatureServiceNotFoundException",
     "evalue": "Feature service titanic_survive_svc_v1 does not exist in project feast_demo",
     "output_type": "error",
     "traceback": [
      "\u001B[0;31m---------------------------------------------------------------------------\u001B[0m",
      "\u001B[0;31mFeatureServiceNotFoundException\u001B[0m           Traceback (most recent call last)",
      "Cell \u001B[0;32mIn[26], line 1\u001B[0m\n\u001B[0;32m----> 1\u001B[0m feature_service \u001B[38;5;241m=\u001B[39m \u001B[43mfeature_store\u001B[49m\u001B[38;5;241;43m.\u001B[39;49m\u001B[43mget_feature_service\u001B[49m\u001B[43m(\u001B[49m\u001B[38;5;124;43m\"\u001B[39;49m\u001B[38;5;124;43mtitanic_survive_svc_v1\u001B[39;49m\u001B[38;5;124;43m\"\u001B[39;49m\u001B[43m)\u001B[49m\n\u001B[1;32m      2\u001B[0m job \u001B[38;5;241m=\u001B[39m feature_store\u001B[38;5;241m.\u001B[39mget_historical_features(features\u001B[38;5;241m=\u001B[39mfeature_service, entity_df\u001B[38;5;241m=\u001B[39mentity_df)\n",
      "File \u001B[0;32m~/miniconda3/envs/ml_workflow_3_9/lib/python3.9/site-packages/feast/usage.py:299\u001B[0m, in \u001B[0;36mlog_exceptions_and_usage.<locals>.decorator.<locals>.wrapper\u001B[0;34m(*args, **kwargs)\u001B[0m\n\u001B[1;32m    296\u001B[0m     ctx\u001B[38;5;241m.\u001B[39mtraceback \u001B[38;5;241m=\u001B[39m _trace_to_log(traceback)\n\u001B[1;32m    298\u001B[0m     \u001B[38;5;28;01mif\u001B[39;00m traceback:\n\u001B[0;32m--> 299\u001B[0m         \u001B[38;5;28;01mraise\u001B[39;00m exc\u001B[38;5;241m.\u001B[39mwith_traceback(traceback)\n\u001B[1;32m    301\u001B[0m     \u001B[38;5;28;01mraise\u001B[39;00m exc\n\u001B[1;32m    302\u001B[0m \u001B[38;5;28;01mfinally\u001B[39;00m:\n",
      "File \u001B[0;32m~/miniconda3/envs/ml_workflow_3_9/lib/python3.9/site-packages/feast/usage.py:288\u001B[0m, in \u001B[0;36mlog_exceptions_and_usage.<locals>.decorator.<locals>.wrapper\u001B[0;34m(*args, **kwargs)\u001B[0m\n\u001B[1;32m    285\u001B[0m ctx\u001B[38;5;241m.\u001B[39mattributes\u001B[38;5;241m.\u001B[39mupdate(attrs)\n\u001B[1;32m    287\u001B[0m \u001B[38;5;28;01mtry\u001B[39;00m:\n\u001B[0;32m--> 288\u001B[0m     \u001B[38;5;28;01mreturn\u001B[39;00m \u001B[43mfunc\u001B[49m\u001B[43m(\u001B[49m\u001B[38;5;241;43m*\u001B[39;49m\u001B[43margs\u001B[49m\u001B[43m,\u001B[49m\u001B[43m \u001B[49m\u001B[38;5;241;43m*\u001B[39;49m\u001B[38;5;241;43m*\u001B[39;49m\u001B[43mkwargs\u001B[49m\u001B[43m)\u001B[49m\n\u001B[1;32m    289\u001B[0m \u001B[38;5;28;01mexcept\u001B[39;00m \u001B[38;5;167;01mException\u001B[39;00m:\n\u001B[1;32m    290\u001B[0m     \u001B[38;5;28;01mif\u001B[39;00m ctx\u001B[38;5;241m.\u001B[39mexception:\n\u001B[1;32m    291\u001B[0m         \u001B[38;5;66;03m# exception was already recorded\u001B[39;00m\n",
      "File \u001B[0;32m~/miniconda3/envs/ml_workflow_3_9/lib/python3.9/site-packages/feast/feature_store.py:388\u001B[0m, in \u001B[0;36mFeatureStore.get_feature_service\u001B[0;34m(self, name, allow_cache)\u001B[0m\n\u001B[1;32m    371\u001B[0m \u001B[38;5;129m@log_exceptions_and_usage\u001B[39m\n\u001B[1;32m    372\u001B[0m \u001B[38;5;28;01mdef\u001B[39;00m \u001B[38;5;21mget_feature_service\u001B[39m(\n\u001B[1;32m    373\u001B[0m     \u001B[38;5;28mself\u001B[39m, name: \u001B[38;5;28mstr\u001B[39m, allow_cache: \u001B[38;5;28mbool\u001B[39m \u001B[38;5;241m=\u001B[39m \u001B[38;5;28;01mFalse\u001B[39;00m\n\u001B[1;32m    374\u001B[0m ) \u001B[38;5;241m-\u001B[39m\u001B[38;5;241m>\u001B[39m FeatureService:\n\u001B[1;32m    375\u001B[0m \u001B[38;5;250m    \u001B[39m\u001B[38;5;124;03m\"\"\"\u001B[39;00m\n\u001B[1;32m    376\u001B[0m \u001B[38;5;124;03m    Retrieves a feature service.\u001B[39;00m\n\u001B[1;32m    377\u001B[0m \n\u001B[0;32m   (...)\u001B[0m\n\u001B[1;32m    386\u001B[0m \u001B[38;5;124;03m        FeatureServiceNotFoundException: The feature service could not be found.\u001B[39;00m\n\u001B[1;32m    387\u001B[0m \u001B[38;5;124;03m    \"\"\"\u001B[39;00m\n\u001B[0;32m--> 388\u001B[0m     \u001B[38;5;28;01mreturn\u001B[39;00m \u001B[38;5;28;43mself\u001B[39;49m\u001B[38;5;241;43m.\u001B[39;49m\u001B[43m_registry\u001B[49m\u001B[38;5;241;43m.\u001B[39;49m\u001B[43mget_feature_service\u001B[49m\u001B[43m(\u001B[49m\u001B[43mname\u001B[49m\u001B[43m,\u001B[49m\u001B[43m \u001B[49m\u001B[38;5;28;43mself\u001B[39;49m\u001B[38;5;241;43m.\u001B[39;49m\u001B[43mproject\u001B[49m\u001B[43m,\u001B[49m\u001B[43m \u001B[49m\u001B[43mallow_cache\u001B[49m\u001B[43m)\u001B[49m\n",
      "File \u001B[0;32m~/miniconda3/envs/ml_workflow_3_9/lib/python3.9/site-packages/feast/infra/registry/sql.py:362\u001B[0m, in \u001B[0;36mSqlRegistry.get_feature_service\u001B[0;34m(self, name, project, allow_cache)\u001B[0m\n\u001B[1;32m    358\u001B[0m     \u001B[38;5;28mself\u001B[39m\u001B[38;5;241m.\u001B[39m_refresh_cached_registry_if_necessary()\n\u001B[1;32m    359\u001B[0m     \u001B[38;5;28;01mreturn\u001B[39;00m proto_registry_utils\u001B[38;5;241m.\u001B[39mget_feature_service(\n\u001B[1;32m    360\u001B[0m         \u001B[38;5;28mself\u001B[39m\u001B[38;5;241m.\u001B[39mcached_registry_proto, name, project\n\u001B[1;32m    361\u001B[0m     )\n\u001B[0;32m--> 362\u001B[0m \u001B[38;5;28;01mreturn\u001B[39;00m \u001B[38;5;28;43mself\u001B[39;49m\u001B[38;5;241;43m.\u001B[39;49m\u001B[43m_get_object\u001B[49m\u001B[43m(\u001B[49m\n\u001B[1;32m    363\u001B[0m \u001B[43m    \u001B[49m\u001B[43mtable\u001B[49m\u001B[38;5;241;43m=\u001B[39;49m\u001B[43mfeature_services\u001B[49m\u001B[43m,\u001B[49m\n\u001B[1;32m    364\u001B[0m \u001B[43m    \u001B[49m\u001B[43mname\u001B[49m\u001B[38;5;241;43m=\u001B[39;49m\u001B[43mname\u001B[49m\u001B[43m,\u001B[49m\n\u001B[1;32m    365\u001B[0m \u001B[43m    \u001B[49m\u001B[43mproject\u001B[49m\u001B[38;5;241;43m=\u001B[39;49m\u001B[43mproject\u001B[49m\u001B[43m,\u001B[49m\n\u001B[1;32m    366\u001B[0m \u001B[43m    \u001B[49m\u001B[43mproto_class\u001B[49m\u001B[38;5;241;43m=\u001B[39;49m\u001B[43mFeatureServiceProto\u001B[49m\u001B[43m,\u001B[49m\n\u001B[1;32m    367\u001B[0m \u001B[43m    \u001B[49m\u001B[43mpython_class\u001B[49m\u001B[38;5;241;43m=\u001B[39;49m\u001B[43mFeatureService\u001B[49m\u001B[43m,\u001B[49m\n\u001B[1;32m    368\u001B[0m \u001B[43m    \u001B[49m\u001B[43mid_field_name\u001B[49m\u001B[38;5;241;43m=\u001B[39;49m\u001B[38;5;124;43m\"\u001B[39;49m\u001B[38;5;124;43mfeature_service_name\u001B[39;49m\u001B[38;5;124;43m\"\u001B[39;49m\u001B[43m,\u001B[49m\n\u001B[1;32m    369\u001B[0m \u001B[43m    \u001B[49m\u001B[43mproto_field_name\u001B[49m\u001B[38;5;241;43m=\u001B[39;49m\u001B[38;5;124;43m\"\u001B[39;49m\u001B[38;5;124;43mfeature_service_proto\u001B[39;49m\u001B[38;5;124;43m\"\u001B[39;49m\u001B[43m,\u001B[49m\n\u001B[1;32m    370\u001B[0m \u001B[43m    \u001B[49m\u001B[43mnot_found_exception\u001B[49m\u001B[38;5;241;43m=\u001B[39;49m\u001B[43mFeatureServiceNotFoundException\u001B[49m\u001B[43m,\u001B[49m\n\u001B[1;32m    371\u001B[0m \u001B[43m\u001B[49m\u001B[43m)\u001B[49m\n",
      "File \u001B[0;32m~/miniconda3/envs/ml_workflow_3_9/lib/python3.9/site-packages/feast/infra/registry/sql.py:958\u001B[0m, in \u001B[0;36mSqlRegistry._get_object\u001B[0;34m(self, table, name, project, proto_class, python_class, id_field_name, proto_field_name, not_found_exception)\u001B[0m\n\u001B[1;32m    956\u001B[0m         \u001B[38;5;28;01mreturn\u001B[39;00m python_class\u001B[38;5;241m.\u001B[39mfrom_proto(_proto)\n\u001B[1;32m    957\u001B[0m \u001B[38;5;28;01mif\u001B[39;00m not_found_exception:\n\u001B[0;32m--> 958\u001B[0m     \u001B[38;5;28;01mraise\u001B[39;00m not_found_exception(name, project)\n\u001B[1;32m    959\u001B[0m \u001B[38;5;28;01melse\u001B[39;00m:\n\u001B[1;32m    960\u001B[0m     \u001B[38;5;28;01mreturn\u001B[39;00m \u001B[38;5;28;01mNone\u001B[39;00m\n",
      "\u001B[0;31mFeatureServiceNotFoundException\u001B[0m: Feature service titanic_survive_svc_v1 does not exist in project feast_demo"
     ]
    }
   ],
   "source": [
    "feature_service = feature_store.get_feature_service(\"titanic_survive_svc_v1\")\n",
    "job = feature_store.get_historical_features(features=feature_service, entity_df=entity_df)"
   ],
   "metadata": {
    "collapsed": false
   }
  },
  {
   "cell_type": "code",
   "execution_count": null,
   "outputs": [],
   "source": [
    "training_df = job.to_df()"
   ],
   "metadata": {
    "collapsed": false
   }
  },
  {
   "cell_type": "code",
   "execution_count": null,
   "outputs": [],
   "source": [
    "print(\"----- Feature schema -----\\n\")\n",
    "print(training_df.info())\n",
    "\n",
    "print()\n",
    "print(\"----- Example features -----\\n\")\n",
    "print(training_df.head())"
   ],
   "metadata": {
    "collapsed": false
   }
  },
  {
   "cell_type": "code",
   "execution_count": null,
   "outputs": [],
   "source": [],
   "metadata": {
    "collapsed": false
   }
  }
 ],
 "metadata": {
  "kernelspec": {
   "display_name": "Python 3",
   "language": "python",
   "name": "python3"
  },
  "language_info": {
   "codemirror_mode": {
    "name": "ipython",
    "version": 2
   },
   "file_extension": ".py",
   "mimetype": "text/x-python",
   "name": "python",
   "nbconvert_exporter": "python",
   "pygments_lexer": "ipython2",
   "version": "2.7.6"
  }
 },
 "nbformat": 4,
 "nbformat_minor": 0
}
