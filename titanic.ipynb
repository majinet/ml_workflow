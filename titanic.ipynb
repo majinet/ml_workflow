{
 "cells": [
  {
   "cell_type": "code",
   "execution_count": 1,
   "metadata": {
    "collapsed": true
   },
   "outputs": [],
   "source": [
    "import matplotlib.pyplot as plt\n",
    "import numpy as np\n",
    "import pandas as pd\n",
    "import seaborn as sns\n",
    "from sklearn.decomposition import PCA\n",
    "from sklearn.feature_selection import mutual_info_regression\n",
    "from sklearn.model_selection import cross_val_score\n",
    "from xgboost import XGBRegressor\n",
    "from datetime import datetime, timedelta\n",
    "\n",
    "from category_encoders import MEstimateEncoder"
   ]
  },
  {
   "cell_type": "code",
   "execution_count": 2,
   "outputs": [],
   "source": [
    "df = pd.read_parquet(\"feast_demo/feature_repo/data/titanic_train.parquet\")"
   ],
   "metadata": {
    "collapsed": false
   }
  },
  {
   "cell_type": "markdown",
   "source": [
    "Remove Nan data"
   ],
   "metadata": {
    "collapsed": false
   }
  },
  {
   "cell_type": "code",
   "execution_count": 3,
   "outputs": [],
   "source": [
    "df = df.dropna()"
   ],
   "metadata": {
    "collapsed": false
   }
  },
  {
   "cell_type": "code",
   "execution_count": 4,
   "outputs": [],
   "source": [
    "df = df.reset_index(drop=True)"
   ],
   "metadata": {
    "collapsed": false
   }
  },
  {
   "cell_type": "code",
   "execution_count": 5,
   "outputs": [
    {
     "data": {
      "text/plain": "     PassengerId  Survived  Pclass  \\\n0              2         1       1   \n1              4         1       1   \n2              7         0       1   \n3             11         1       3   \n4             12         1       1   \n..           ...       ...     ...   \n178          872         1       1   \n179          873         0       1   \n180          880         1       1   \n181          888         1       1   \n182          890         1       1   \n\n                                                  Name     Sex   Age  SibSp  \\\n0    Cumings, Mrs. John Bradley (Florence Briggs Th...  female  38.0      1   \n1         Futrelle, Mrs. Jacques Heath (Lily May Peel)  female  35.0      1   \n2                              McCarthy, Mr. Timothy J    male  54.0      0   \n3                      Sandstrom, Miss. Marguerite Rut  female   4.0      1   \n4                             Bonnell, Miss. Elizabeth  female  58.0      0   \n..                                                 ...     ...   ...    ...   \n178   Beckwith, Mrs. Richard Leonard (Sallie Monypeny)  female  47.0      1   \n179                           Carlsson, Mr. Frans Olof    male  33.0      0   \n180      Potter, Mrs. Thomas Jr (Lily Alexenia Wilson)  female  56.0      0   \n181                       Graham, Miss. Margaret Edith  female  19.0      0   \n182                              Behr, Mr. Karl Howell    male  26.0      0   \n\n     Parch    Ticket     Fare        Cabin Embarked            event_timestamp  \n0        0  PC 17599  71.2833          C85        C 2023-03-05 14:51:48.926438  \n1        0    113803  53.1000         C123        S 2023-03-05 14:51:48.926438  \n2        0     17463  51.8625          E46        S 2023-03-05 14:51:48.926438  \n3        1   PP 9549  16.7000           G6        S 2023-03-05 14:51:48.926438  \n4        0    113783  26.5500         C103        S 2023-03-05 14:51:48.926438  \n..     ...       ...      ...          ...      ...                        ...  \n178      1     11751  52.5542          D35        S 2023-03-05 14:51:48.926438  \n179      0       695   5.0000  B51 B53 B55        S 2023-03-05 14:51:48.926438  \n180      1     11767  83.1583          C50        C 2023-03-05 14:51:48.926438  \n181      0    112053  30.0000          B42        S 2023-03-05 14:51:48.926438  \n182      0    111369  30.0000         C148        C 2023-03-05 14:51:48.926438  \n\n[183 rows x 13 columns]",
      "text/html": "<div>\n<style scoped>\n    .dataframe tbody tr th:only-of-type {\n        vertical-align: middle;\n    }\n\n    .dataframe tbody tr th {\n        vertical-align: top;\n    }\n\n    .dataframe thead th {\n        text-align: right;\n    }\n</style>\n<table border=\"1\" class=\"dataframe\">\n  <thead>\n    <tr style=\"text-align: right;\">\n      <th></th>\n      <th>PassengerId</th>\n      <th>Survived</th>\n      <th>Pclass</th>\n      <th>Name</th>\n      <th>Sex</th>\n      <th>Age</th>\n      <th>SibSp</th>\n      <th>Parch</th>\n      <th>Ticket</th>\n      <th>Fare</th>\n      <th>Cabin</th>\n      <th>Embarked</th>\n      <th>event_timestamp</th>\n    </tr>\n  </thead>\n  <tbody>\n    <tr>\n      <th>0</th>\n      <td>2</td>\n      <td>1</td>\n      <td>1</td>\n      <td>Cumings, Mrs. John Bradley (Florence Briggs Th...</td>\n      <td>female</td>\n      <td>38.0</td>\n      <td>1</td>\n      <td>0</td>\n      <td>PC 17599</td>\n      <td>71.2833</td>\n      <td>C85</td>\n      <td>C</td>\n      <td>2023-03-05 14:51:48.926438</td>\n    </tr>\n    <tr>\n      <th>1</th>\n      <td>4</td>\n      <td>1</td>\n      <td>1</td>\n      <td>Futrelle, Mrs. Jacques Heath (Lily May Peel)</td>\n      <td>female</td>\n      <td>35.0</td>\n      <td>1</td>\n      <td>0</td>\n      <td>113803</td>\n      <td>53.1000</td>\n      <td>C123</td>\n      <td>S</td>\n      <td>2023-03-05 14:51:48.926438</td>\n    </tr>\n    <tr>\n      <th>2</th>\n      <td>7</td>\n      <td>0</td>\n      <td>1</td>\n      <td>McCarthy, Mr. Timothy J</td>\n      <td>male</td>\n      <td>54.0</td>\n      <td>0</td>\n      <td>0</td>\n      <td>17463</td>\n      <td>51.8625</td>\n      <td>E46</td>\n      <td>S</td>\n      <td>2023-03-05 14:51:48.926438</td>\n    </tr>\n    <tr>\n      <th>3</th>\n      <td>11</td>\n      <td>1</td>\n      <td>3</td>\n      <td>Sandstrom, Miss. Marguerite Rut</td>\n      <td>female</td>\n      <td>4.0</td>\n      <td>1</td>\n      <td>1</td>\n      <td>PP 9549</td>\n      <td>16.7000</td>\n      <td>G6</td>\n      <td>S</td>\n      <td>2023-03-05 14:51:48.926438</td>\n    </tr>\n    <tr>\n      <th>4</th>\n      <td>12</td>\n      <td>1</td>\n      <td>1</td>\n      <td>Bonnell, Miss. Elizabeth</td>\n      <td>female</td>\n      <td>58.0</td>\n      <td>0</td>\n      <td>0</td>\n      <td>113783</td>\n      <td>26.5500</td>\n      <td>C103</td>\n      <td>S</td>\n      <td>2023-03-05 14:51:48.926438</td>\n    </tr>\n    <tr>\n      <th>...</th>\n      <td>...</td>\n      <td>...</td>\n      <td>...</td>\n      <td>...</td>\n      <td>...</td>\n      <td>...</td>\n      <td>...</td>\n      <td>...</td>\n      <td>...</td>\n      <td>...</td>\n      <td>...</td>\n      <td>...</td>\n      <td>...</td>\n    </tr>\n    <tr>\n      <th>178</th>\n      <td>872</td>\n      <td>1</td>\n      <td>1</td>\n      <td>Beckwith, Mrs. Richard Leonard (Sallie Monypeny)</td>\n      <td>female</td>\n      <td>47.0</td>\n      <td>1</td>\n      <td>1</td>\n      <td>11751</td>\n      <td>52.5542</td>\n      <td>D35</td>\n      <td>S</td>\n      <td>2023-03-05 14:51:48.926438</td>\n    </tr>\n    <tr>\n      <th>179</th>\n      <td>873</td>\n      <td>0</td>\n      <td>1</td>\n      <td>Carlsson, Mr. Frans Olof</td>\n      <td>male</td>\n      <td>33.0</td>\n      <td>0</td>\n      <td>0</td>\n      <td>695</td>\n      <td>5.0000</td>\n      <td>B51 B53 B55</td>\n      <td>S</td>\n      <td>2023-03-05 14:51:48.926438</td>\n    </tr>\n    <tr>\n      <th>180</th>\n      <td>880</td>\n      <td>1</td>\n      <td>1</td>\n      <td>Potter, Mrs. Thomas Jr (Lily Alexenia Wilson)</td>\n      <td>female</td>\n      <td>56.0</td>\n      <td>0</td>\n      <td>1</td>\n      <td>11767</td>\n      <td>83.1583</td>\n      <td>C50</td>\n      <td>C</td>\n      <td>2023-03-05 14:51:48.926438</td>\n    </tr>\n    <tr>\n      <th>181</th>\n      <td>888</td>\n      <td>1</td>\n      <td>1</td>\n      <td>Graham, Miss. Margaret Edith</td>\n      <td>female</td>\n      <td>19.0</td>\n      <td>0</td>\n      <td>0</td>\n      <td>112053</td>\n      <td>30.0000</td>\n      <td>B42</td>\n      <td>S</td>\n      <td>2023-03-05 14:51:48.926438</td>\n    </tr>\n    <tr>\n      <th>182</th>\n      <td>890</td>\n      <td>1</td>\n      <td>1</td>\n      <td>Behr, Mr. Karl Howell</td>\n      <td>male</td>\n      <td>26.0</td>\n      <td>0</td>\n      <td>0</td>\n      <td>111369</td>\n      <td>30.0000</td>\n      <td>C148</td>\n      <td>C</td>\n      <td>2023-03-05 14:51:48.926438</td>\n    </tr>\n  </tbody>\n</table>\n<p>183 rows × 13 columns</p>\n</div>"
     },
     "execution_count": 5,
     "metadata": {},
     "output_type": "execute_result"
    }
   ],
   "source": [
    "df"
   ],
   "metadata": {
    "collapsed": false
   }
  },
  {
   "cell_type": "markdown",
   "source": [
    "pick features for PCA"
   ],
   "metadata": {
    "collapsed": false
   }
  },
  {
   "cell_type": "code",
   "execution_count": 6,
   "outputs": [
    {
     "name": "stdout",
     "output_type": "stream",
     "text": [
      "Correlation with Survived:\n",
      "\n",
      "Pclass   -0.034542\n",
      "Age      -0.254085\n",
      "SibSp     0.106346\n",
      "Parch     0.023582\n",
      "Fare      0.134241\n",
      "dtype: float64\n"
     ]
    }
   ],
   "source": [
    "features = [\n",
    "    \"Pclass\",\n",
    "    \"Age\",\n",
    "    \"SibSp\",\n",
    "    \"Parch\",\n",
    "    \"Fare\",\n",
    "]\n",
    "\n",
    "print(\"Correlation with Survived:\\n\")\n",
    "print(df[features].corrwith(df.Survived))"
   ],
   "metadata": {
    "collapsed": false
   }
  },
  {
   "cell_type": "code",
   "execution_count": 7,
   "outputs": [],
   "source": [
    "def score_dataset(X, y, model=XGBRegressor()):\n",
    "    # Label encoding for categoricals\n",
    "    for colname in X.select_dtypes([\"category\", \"object\"]):\n",
    "        print(f\"column: {colname}\")\n",
    "        X[colname], _ = X[colname].factorize()\n",
    "\n",
    "    # Metric for Housing competition is RMSLE (Root Mean Squared Log Error)\n",
    "    score = cross_val_score(\n",
    "        model, X, y, cv=5, scoring=\"neg_mean_squared_log_error\",\n",
    "    )\n",
    "    score = -1 * score.mean()\n",
    "    score = np.sqrt(score)\n",
    "    return score\n",
    "\n",
    "def apply_pca(X, standardize=True):\n",
    "    # Standardize\n",
    "    if standardize:\n",
    "        X = (X - X.mean(axis=0)) / X.std(axis=0)\n",
    "    # Create principal components\n",
    "    pca = PCA()\n",
    "    X_pca = pca.fit_transform(X)\n",
    "    # Convert to dataframe\n",
    "    component_names = [f\"PC{i+1}\" for i in range(X_pca.shape[1])]\n",
    "    X_pca = pd.DataFrame(X_pca, columns=component_names)\n",
    "    # Create loadings\n",
    "    loadings = pd.DataFrame(\n",
    "        pca.components_.T,  # transpose the matrix of loadings\n",
    "        columns=component_names,  # so the columns are the principal components\n",
    "        index=X.columns,  # and the rows are the original features\n",
    "    )\n",
    "    return pca, X_pca, loadings"
   ],
   "metadata": {
    "collapsed": false
   }
  },
  {
   "cell_type": "code",
   "execution_count": 8,
   "outputs": [
    {
     "name": "stdout",
     "output_type": "stream",
     "text": [
      "             PC1       PC2       PC3       PC4       PC5\n",
      "Pclass -0.142195  0.723847 -0.025308  0.373630  0.561770\n",
      "Age    -0.313982 -0.597750  0.007917  0.702886  0.223604\n",
      "SibSp   0.489185 -0.045062 -0.851333  0.182807  0.021947\n",
      "Parch   0.561872  0.182161  0.417734  0.538595 -0.431893\n",
      "Fare    0.571134 -0.289010  0.316272 -0.207002  0.668881\n"
     ]
    }
   ],
   "source": [
    "features = [\n",
    "    \"Pclass\",\n",
    "    \"Age\",\n",
    "    \"SibSp\",\n",
    "    \"Parch\",\n",
    "    \"Fare\",\n",
    "]\n",
    "\n",
    "X = df.copy()\n",
    "y = X.pop(\"Survived\")\n",
    "X = X.loc[:, features]\n",
    "\n",
    "X\n",
    "\n",
    "# `apply_pca`, defined above, reproduces the code from the tutorial\n",
    "pca, X_pca, loadings = apply_pca(X)\n",
    "print(loadings)"
   ],
   "metadata": {
    "collapsed": false
   }
  },
  {
   "cell_type": "code",
   "execution_count": 9,
   "outputs": [],
   "source": [
    "X_pca['event_timestamp'] = datetime.now()\n"
   ],
   "metadata": {
    "collapsed": false
   }
  },
  {
   "cell_type": "code",
   "execution_count": 10,
   "outputs": [],
   "source": [
    "X_pca['PassengerId'] = df['PassengerId']"
   ],
   "metadata": {
    "collapsed": false
   }
  },
  {
   "cell_type": "code",
   "execution_count": 11,
   "outputs": [
    {
     "data": {
      "text/plain": "          PC1       PC2       PC3       PC4       PC5  \\\n0    0.003464 -0.481794 -0.991004 -0.201495  0.050206   \n1   -0.072348 -0.298333 -1.067847 -0.286986 -0.151978   \n2   -1.222364 -0.949682  0.258262  0.286256  0.074684   \n3    0.470111  4.075396 -0.779002  0.583059  0.694532   \n4   -1.492001 -1.006702  0.155429  0.534607 -0.089904   \n..        ...       ...       ...       ...       ...   \n178  0.427300 -0.513390 -0.510465  0.967391 -0.557573   \n179 -1.151445  0.030121  0.053506 -0.530225 -0.636039   \n180 -0.283813 -0.903174  0.942488  1.004997 -0.194882   \n181 -0.683439  0.470424  0.149984 -1.227033 -0.617123   \n182 -0.823933  0.202954  0.153526 -0.912520 -0.517069   \n\n               event_timestamp  PassengerId  \n0   2023-03-07 23:36:42.196729            2  \n1   2023-03-07 23:36:42.196729            4  \n2   2023-03-07 23:36:42.196729            7  \n3   2023-03-07 23:36:42.196729           11  \n4   2023-03-07 23:36:42.196729           12  \n..                         ...          ...  \n178 2023-03-07 23:36:42.196729          872  \n179 2023-03-07 23:36:42.196729          873  \n180 2023-03-07 23:36:42.196729          880  \n181 2023-03-07 23:36:42.196729          888  \n182 2023-03-07 23:36:42.196729          890  \n\n[183 rows x 7 columns]",
      "text/html": "<div>\n<style scoped>\n    .dataframe tbody tr th:only-of-type {\n        vertical-align: middle;\n    }\n\n    .dataframe tbody tr th {\n        vertical-align: top;\n    }\n\n    .dataframe thead th {\n        text-align: right;\n    }\n</style>\n<table border=\"1\" class=\"dataframe\">\n  <thead>\n    <tr style=\"text-align: right;\">\n      <th></th>\n      <th>PC1</th>\n      <th>PC2</th>\n      <th>PC3</th>\n      <th>PC4</th>\n      <th>PC5</th>\n      <th>event_timestamp</th>\n      <th>PassengerId</th>\n    </tr>\n  </thead>\n  <tbody>\n    <tr>\n      <th>0</th>\n      <td>0.003464</td>\n      <td>-0.481794</td>\n      <td>-0.991004</td>\n      <td>-0.201495</td>\n      <td>0.050206</td>\n      <td>2023-03-07 23:36:42.196729</td>\n      <td>2</td>\n    </tr>\n    <tr>\n      <th>1</th>\n      <td>-0.072348</td>\n      <td>-0.298333</td>\n      <td>-1.067847</td>\n      <td>-0.286986</td>\n      <td>-0.151978</td>\n      <td>2023-03-07 23:36:42.196729</td>\n      <td>4</td>\n    </tr>\n    <tr>\n      <th>2</th>\n      <td>-1.222364</td>\n      <td>-0.949682</td>\n      <td>0.258262</td>\n      <td>0.286256</td>\n      <td>0.074684</td>\n      <td>2023-03-07 23:36:42.196729</td>\n      <td>7</td>\n    </tr>\n    <tr>\n      <th>3</th>\n      <td>0.470111</td>\n      <td>4.075396</td>\n      <td>-0.779002</td>\n      <td>0.583059</td>\n      <td>0.694532</td>\n      <td>2023-03-07 23:36:42.196729</td>\n      <td>11</td>\n    </tr>\n    <tr>\n      <th>4</th>\n      <td>-1.492001</td>\n      <td>-1.006702</td>\n      <td>0.155429</td>\n      <td>0.534607</td>\n      <td>-0.089904</td>\n      <td>2023-03-07 23:36:42.196729</td>\n      <td>12</td>\n    </tr>\n    <tr>\n      <th>...</th>\n      <td>...</td>\n      <td>...</td>\n      <td>...</td>\n      <td>...</td>\n      <td>...</td>\n      <td>...</td>\n      <td>...</td>\n    </tr>\n    <tr>\n      <th>178</th>\n      <td>0.427300</td>\n      <td>-0.513390</td>\n      <td>-0.510465</td>\n      <td>0.967391</td>\n      <td>-0.557573</td>\n      <td>2023-03-07 23:36:42.196729</td>\n      <td>872</td>\n    </tr>\n    <tr>\n      <th>179</th>\n      <td>-1.151445</td>\n      <td>0.030121</td>\n      <td>0.053506</td>\n      <td>-0.530225</td>\n      <td>-0.636039</td>\n      <td>2023-03-07 23:36:42.196729</td>\n      <td>873</td>\n    </tr>\n    <tr>\n      <th>180</th>\n      <td>-0.283813</td>\n      <td>-0.903174</td>\n      <td>0.942488</td>\n      <td>1.004997</td>\n      <td>-0.194882</td>\n      <td>2023-03-07 23:36:42.196729</td>\n      <td>880</td>\n    </tr>\n    <tr>\n      <th>181</th>\n      <td>-0.683439</td>\n      <td>0.470424</td>\n      <td>0.149984</td>\n      <td>-1.227033</td>\n      <td>-0.617123</td>\n      <td>2023-03-07 23:36:42.196729</td>\n      <td>888</td>\n    </tr>\n    <tr>\n      <th>182</th>\n      <td>-0.823933</td>\n      <td>0.202954</td>\n      <td>0.153526</td>\n      <td>-0.912520</td>\n      <td>-0.517069</td>\n      <td>2023-03-07 23:36:42.196729</td>\n      <td>890</td>\n    </tr>\n  </tbody>\n</table>\n<p>183 rows × 7 columns</p>\n</div>"
     },
     "execution_count": 11,
     "metadata": {},
     "output_type": "execute_result"
    }
   ],
   "source": [
    "X_pca"
   ],
   "metadata": {
    "collapsed": false
   }
  },
  {
   "cell_type": "code",
   "execution_count": 12,
   "outputs": [],
   "source": [
    "X_pca.to_parquet(\"feast_demo/feature_repo/data/titanic_pca_feature.parquet\")"
   ],
   "metadata": {
    "collapsed": false
   }
  },
  {
   "cell_type": "code",
   "execution_count": 13,
   "outputs": [
    {
     "data": {
      "text/plain": "     PassengerId  Pclass   Age     Sex  SibSp  Parch     Fare  Survived\n0              2       1  38.0  female      1      0  71.2833         1\n1              4       1  35.0  female      1      0  53.1000         1\n2              7       1  54.0    male      0      0  51.8625         0\n3             11       3   4.0  female      1      1  16.7000         1\n4             12       1  58.0  female      0      0  26.5500         1\n..           ...     ...   ...     ...    ...    ...      ...       ...\n178          872       1  47.0  female      1      1  52.5542         1\n179          873       1  33.0    male      0      0   5.0000         0\n180          880       1  56.0  female      0      1  83.1583         1\n181          888       1  19.0  female      0      0  30.0000         1\n182          890       1  26.0    male      0      0  30.0000         1\n\n[183 rows x 8 columns]",
      "text/html": "<div>\n<style scoped>\n    .dataframe tbody tr th:only-of-type {\n        vertical-align: middle;\n    }\n\n    .dataframe tbody tr th {\n        vertical-align: top;\n    }\n\n    .dataframe thead th {\n        text-align: right;\n    }\n</style>\n<table border=\"1\" class=\"dataframe\">\n  <thead>\n    <tr style=\"text-align: right;\">\n      <th></th>\n      <th>PassengerId</th>\n      <th>Pclass</th>\n      <th>Age</th>\n      <th>Sex</th>\n      <th>SibSp</th>\n      <th>Parch</th>\n      <th>Fare</th>\n      <th>Survived</th>\n    </tr>\n  </thead>\n  <tbody>\n    <tr>\n      <th>0</th>\n      <td>2</td>\n      <td>1</td>\n      <td>38.0</td>\n      <td>female</td>\n      <td>1</td>\n      <td>0</td>\n      <td>71.2833</td>\n      <td>1</td>\n    </tr>\n    <tr>\n      <th>1</th>\n      <td>4</td>\n      <td>1</td>\n      <td>35.0</td>\n      <td>female</td>\n      <td>1</td>\n      <td>0</td>\n      <td>53.1000</td>\n      <td>1</td>\n    </tr>\n    <tr>\n      <th>2</th>\n      <td>7</td>\n      <td>1</td>\n      <td>54.0</td>\n      <td>male</td>\n      <td>0</td>\n      <td>0</td>\n      <td>51.8625</td>\n      <td>0</td>\n    </tr>\n    <tr>\n      <th>3</th>\n      <td>11</td>\n      <td>3</td>\n      <td>4.0</td>\n      <td>female</td>\n      <td>1</td>\n      <td>1</td>\n      <td>16.7000</td>\n      <td>1</td>\n    </tr>\n    <tr>\n      <th>4</th>\n      <td>12</td>\n      <td>1</td>\n      <td>58.0</td>\n      <td>female</td>\n      <td>0</td>\n      <td>0</td>\n      <td>26.5500</td>\n      <td>1</td>\n    </tr>\n    <tr>\n      <th>...</th>\n      <td>...</td>\n      <td>...</td>\n      <td>...</td>\n      <td>...</td>\n      <td>...</td>\n      <td>...</td>\n      <td>...</td>\n      <td>...</td>\n    </tr>\n    <tr>\n      <th>178</th>\n      <td>872</td>\n      <td>1</td>\n      <td>47.0</td>\n      <td>female</td>\n      <td>1</td>\n      <td>1</td>\n      <td>52.5542</td>\n      <td>1</td>\n    </tr>\n    <tr>\n      <th>179</th>\n      <td>873</td>\n      <td>1</td>\n      <td>33.0</td>\n      <td>male</td>\n      <td>0</td>\n      <td>0</td>\n      <td>5.0000</td>\n      <td>0</td>\n    </tr>\n    <tr>\n      <th>180</th>\n      <td>880</td>\n      <td>1</td>\n      <td>56.0</td>\n      <td>female</td>\n      <td>0</td>\n      <td>1</td>\n      <td>83.1583</td>\n      <td>1</td>\n    </tr>\n    <tr>\n      <th>181</th>\n      <td>888</td>\n      <td>1</td>\n      <td>19.0</td>\n      <td>female</td>\n      <td>0</td>\n      <td>0</td>\n      <td>30.0000</td>\n      <td>1</td>\n    </tr>\n    <tr>\n      <th>182</th>\n      <td>890</td>\n      <td>1</td>\n      <td>26.0</td>\n      <td>male</td>\n      <td>0</td>\n      <td>0</td>\n      <td>30.0000</td>\n      <td>1</td>\n    </tr>\n  </tbody>\n</table>\n<p>183 rows × 8 columns</p>\n</div>"
     },
     "execution_count": 13,
     "metadata": {},
     "output_type": "execute_result"
    }
   ],
   "source": [
    "preprocessed_df = df.copy()\n",
    "\n",
    "columns = [\n",
    "    \"PassengerId\",\n",
    "    \"Pclass\",\n",
    "    \"Age\",\n",
    "    \"Sex\",\n",
    "    \"SibSp\",\n",
    "    \"Parch\",\n",
    "    \"Fare\",\n",
    "    \"Survived\",\n",
    "]\n",
    "\n",
    "preprocessed_df = preprocessed_df.loc[:, columns]\n",
    "\n",
    "preprocessed_df"
   ],
   "metadata": {
    "collapsed": false
   }
  },
  {
   "cell_type": "code",
   "execution_count": 14,
   "outputs": [],
   "source": [
    "df['event_timestamp'] = datetime.now()\n",
    "df.to_parquet(\"feast_demo/feature_repo/data/titanic_train_preprocessed.parquet\")"
   ],
   "metadata": {
    "collapsed": false
   }
  },
  {
   "cell_type": "code",
   "execution_count": 14,
   "outputs": [],
   "source": [],
   "metadata": {
    "collapsed": false
   }
  }
 ],
 "metadata": {
  "kernelspec": {
   "display_name": "Python 3",
   "language": "python",
   "name": "python3"
  },
  "language_info": {
   "codemirror_mode": {
    "name": "ipython",
    "version": 2
   },
   "file_extension": ".py",
   "mimetype": "text/x-python",
   "name": "python",
   "nbconvert_exporter": "python",
   "pygments_lexer": "ipython2",
   "version": "2.7.6"
  }
 },
 "nbformat": 4,
 "nbformat_minor": 0
}
